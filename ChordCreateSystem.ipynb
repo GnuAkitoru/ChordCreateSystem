{
  "cells": [
    {
      "cell_type": "markdown",
      "metadata": {
        "id": "view-in-github",
        "colab_type": "text"
      },
      "source": [
        "<a href=\"https://colab.research.google.com/github/GnuAkitoru/ChordCreateSystem/blob/main/ChordCreateSystem.ipynb\" target=\"_parent\"><img src=\"https://colab.research.google.com/assets/colab-badge.svg\" alt=\"Open In Colab\"/></a>"
      ]
    },
    {
      "cell_type": "markdown",
      "metadata": {
        "id": "lNJt-Gd2NIIA"
      },
      "source": [
        "インストール\n"
      ]
    },
    {
      "cell_type": "code",
      "execution_count": 1,
      "metadata": {
        "id": "4wKra-QzvIeP"
      },
      "outputs": [],
      "source": [
        "import gspread\n",
        "import math"
      ]
    },
    {
      "cell_type": "markdown",
      "metadata": {
        "id": "RRzXvygAYVPO"
      },
      "source": [
        "google スプレッドシートへのアクセスを許可する"
      ]
    },
    {
      "cell_type": "code",
      "execution_count": 2,
      "metadata": {
        "id": "gdiPPx7VUjy1"
      },
      "outputs": [],
      "source": [
        "from google.colab import auth\n",
        "from google.auth import default\n",
        "import gspread\n",
        "\n",
        "auth.authenticate_user()\n",
        "creds, _ = default()\n",
        "gc = gspread.authorize(creds)"
      ]
    },
    {
      "cell_type": "markdown",
      "source": [
        "スプレッドシートからデータを持ってきて、\n",
        "\n",
        "(メロディー,コード)の組でタプルにまとめ、それらをdatalstに入れる"
      ],
      "metadata": {
        "id": "AoDiz3oPlz5L"
      }
    },
    {
      "cell_type": "code",
      "execution_count": 4,
      "metadata": {
        "colab": {
          "base_uri": "https://localhost:8080/"
        },
        "id": "zV7Yn1FrUwET",
        "outputId": "96bbb25e-5aed-45e0-8da7-e1daaa652bcc"
      },
      "outputs": [
        {
          "output_type": "stream",
          "name": "stdout",
          "text": [
            "['c', 'C', 'e', 'C', 'e', 'C', 'e', 'C', 'd', 'G', 'f', 'G', 'f', 'G', 'f', 'G', 'e', 'C', 'g', 'C', 'g', 'C', 'g', 'C', 'f', 'Dm', 'a', 'Dm', 'a', 'Dm', 'a', 'Dm', 'g', 'C', 'd', 'C', 'a', 'F', 'a', 'F', 'a', 'Dm', 'e', 'Dm', 'b', 'G', 'b', 'G', 'b', 'Em', 'f', 'Em', 'c', 'Am', 'c', 'Am', 'a', 'F', 'b', 'G', 'c', 'C', 'c', 'C', 'c', 'C', 'e', 'C', 'e', 'F', 'e', 'F', 'e', 'G', 'g', 'G', 'e', 'C', 'g', 'C', 'g', 'C', 'e', 'C', 'g', 'Em', 'g', 'Em', 'a', 'Am', 'e', 'Am', 'd', 'G', 'e', 'C', 'a', 'F', 'b', 'F', 'a', 'Em', 'c', 'Am', 'd', 'F', 'd', 'F', 'g', 'G', 'e', 'G', 'c', 'C', 'b', 'C', 'a', 'C', 'g', 'C', 'b', 'Em', 'b', 'Em', 'd', 'Em', 'e', 'Em', 'a', 'F', 'a', 'F', 'g', 'F', 'c', 'F', 'g', 'G', 'd', 'G', 'c', 'F', 'c', 'F', 'd', 'Em', 'g', 'Em', 'd', 'Am', 'c', 'Am', 'c', 'C', 'c', 'C', 'c', 'F', 'c', 'F', 'd', 'Em', 'c', 'Em', 'a', 'Am', 'g', 'Am', 'g', 'C', 'g', 'C', 'c', 'F', 'e', 'F', 'g', 'G', 'c', 'G', 'g', 'Em', 'g', 'Em', 'g', 'Am', 'g', 'Am', 'c', 'F', 'e', 'F', 'g', 'G', 'e', 'G', 'd', 'C', 'd', 'C', 'c', 'C', 'c', 'C', 'c', 'C', 'c', 'C', 'e', 'C', 'e', 'C', 'c', 'C', 'e', 'C', 'd', 'G', 'g', 'G', 'e', 'C', 'g', 'C', 'c', 'C', 'e', 'C', 'a', 'F', 'a', 'F', 'g', 'C', 'f', 'G', 'e', 'Am', 'd', 'G', 'c', 'C', 'a', 'F', 'c', 'F', 'g', 'C', 'c', 'C', 'c', 'F', 'b', 'F', 'd', 'G', 'd', 'G', 'e', 'C', 'g', 'G', 'e', 'Am', 'e', 'Am', 'c', 'Em', 'c', 'Em', 'g', 'C', 'e', 'C', 'g', 'G', 'e', 'G', 'c', 'Am', 'c', 'Am', 'b', 'Em', 'a', 'Em', 'f', 'F', 'a', 'F', 'c', 'C', 'c', 'C', 'f', 'F', 'd', 'F', 'd', 'G', 'e', 'G', 'd', 'G', 'd', 'C', 'd', 'G', 'b', 'G', 'e', 'C', 'd', 'C', 'b', 'G', 'g', 'G', 'f', 'F', 'c', 'Am', 'a', 'Am', 'g', 'Em', 'c', 'Em', 'f', 'F', 'a', 'G', 'g', 'C', 'c', 'Em', 'f', 'Am', 'a', 'Am', 'g', 'Em', 'c', 'Em', 'd', 'F', 'd', 'G', 'd', 'C', 'e', 'Em', 'e', 'C', 'd', 'G', 'd', 'Am', 'e', 'Am', 'a', 'F', 'g', 'C', 'a', 'F', 'f', 'F', 'e', 'C', 'd', 'G', 'd', 'Am', 'e', 'Am', 'a', 'F', 'g', 'G']\n",
            "[0, 0, 2, 0, 2, 0, 2, 0, 1, 4, 3, 4, 3, 4, 3, 4, 2, 0, 4, 0, 4, 0, 4, 0, 3, 1, 5, 1, 5, 1, 5, 1, 4, 0, 1, 0, 5, 3, 5, 3, 5, 1, 2, 1, 6, 4, 6, 4, 6, 2, 3, 2, 0, 5, 0, 5, 5, 3, 6, 4, 0, 0, 0, 0, 0, 0, 2, 0, 2, 3, 2, 3, 2, 4, 4, 4, 2, 0, 4, 0, 4, 0, 2, 0, 4, 2, 4, 2, 5, 5, 2, 5, 1, 4, 2, 0, 5, 3, 6, 3, 5, 2, 0, 5, 1, 3, 1, 3, 4, 4, 2, 4, 0, 0, 6, 0, 5, 0, 4, 0, 6, 2, 6, 2, 1, 2, 2, 2, 5, 3, 5, 3, 4, 3, 0, 3, 4, 4, 1, 4, 0, 3, 0, 3, 1, 2, 4, 2, 1, 5, 0, 5, 0, 0, 0, 0, 0, 3, 0, 3, 1, 2, 0, 2, 5, 5, 4, 5, 4, 0, 4, 0, 0, 3, 2, 3, 4, 4, 0, 4, 4, 2, 4, 2, 4, 5, 4, 5, 0, 3, 2, 3, 4, 4, 2, 4, 1, 0, 1, 0, 0, 0, 0, 0, 0, 0, 0, 0, 2, 0, 2, 0, 0, 0, 2, 0, 1, 4, 4, 4, 2, 0, 4, 0, 0, 0, 2, 0, 5, 3, 5, 3, 4, 0, 3, 4, 2, 5, 1, 4, 0, 0, 5, 3, 0, 3, 4, 0, 0, 0, 0, 3, 6, 3, 1, 4, 1, 4, 2, 0, 4, 4, 2, 5, 2, 5, 0, 2, 0, 2, 4, 0, 2, 0, 4, 4, 2, 4, 0, 5, 0, 5, 6, 2, 5, 2, 3, 3, 5, 3, 0, 0, 0, 0, 3, 3, 1, 3, 1, 4, 2, 4, 1, 4, 1, 0, 1, 4, 6, 4, 2, 0, 1, 0, 6, 4, 4, 4, 3, 3, 0, 5, 5, 5, 4, 2, 0, 2, 3, 3, 5, 4, 4, 0, 0, 2, 3, 5, 5, 5, 4, 2, 0, 2, 1, 3, 1, 4, 1, 0, 2, 2, 2, 0, 1, 4, 1, 5, 2, 5, 5, 3, 4, 0, 5, 3, 3, 3, 2, 0, 1, 4, 1, 5, 2, 5, 5, 3, 4, 4]\n",
            "datalst↓\n",
            "[(0, 0), (2, 0), (2, 0), (2, 0), (1, 4), (3, 4), (3, 4), (3, 4), (2, 0), (4, 0), (4, 0), (4, 0), (3, 1), (5, 1), (5, 1), (5, 1), (4, 0), (1, 0), (5, 3), (5, 3), (5, 1), (2, 1), (6, 4), (6, 4), (6, 2), (3, 2), (0, 5), (0, 5), (5, 3), (6, 4), (0, 0), (0, 0), (0, 0), (2, 0), (2, 3), (2, 3), (2, 4), (4, 4), (2, 0), (4, 0), (4, 0), (2, 0), (4, 2), (4, 2), (5, 5), (2, 5), (1, 4), (2, 0), (5, 3), (6, 3), (5, 2), (0, 5), (1, 3), (1, 3), (4, 4), (2, 4), (0, 0), (6, 0), (5, 0), (4, 0), (6, 2), (6, 2), (1, 2), (2, 2), (5, 3), (5, 3), (4, 3), (0, 3), (4, 4), (1, 4), (0, 3), (0, 3), (1, 2), (4, 2), (1, 5), (0, 5), (0, 0), (0, 0), (0, 3), (0, 3), (1, 2), (0, 2), (5, 5), (4, 5), (4, 0), (4, 0), (0, 3), (2, 3), (4, 4), (0, 4), (4, 2), (4, 2), (4, 5), (4, 5), (0, 3), (2, 3), (4, 4), (2, 4), (1, 0), (1, 0), (0, 0), (0, 0), (0, 0), (0, 0), (2, 0), (2, 0), (0, 0), (2, 0), (1, 4), (4, 4), (2, 0), (4, 0), (0, 0), (2, 0), (5, 3), (5, 3), (4, 0), (3, 4), (2, 5), (1, 4), (0, 0), (5, 3), (0, 3), (4, 0), (0, 0), (0, 3), (6, 3), (1, 4), (1, 4), (2, 0), (4, 4), (2, 5), (2, 5), (0, 2), (0, 2), (4, 0), (2, 0), (4, 4), (2, 4), (0, 5), (0, 5), (6, 2), (5, 2), (3, 3), (5, 3), (0, 0), (0, 0), (3, 3), (1, 3), (1, 4), (2, 4), (1, 4), (1, 0), (1, 4), (6, 4), (2, 0), (1, 0), (6, 4), (4, 4), (3, 3), (0, 5), (5, 5), (4, 2), (0, 2), (3, 3), (5, 4), (4, 0), (0, 2), (3, 5), (5, 5), (4, 2), (0, 2), (1, 3), (1, 4), (1, 0), (2, 2), (2, 0), (1, 4), (1, 5), (2, 5), (5, 3), (4, 0), (5, 3), (3, 3), (2, 0), (1, 4), (1, 5), (2, 5), (5, 3), (4, 4)]\n"
          ]
        }
      ],
      "source": [
        "#スプレッドシートのファイルとページの指定\n",
        "\n",
        "ss_name = \"コード進行生成用DB\"\n",
        "workbook = gc.open(ss_name)\n",
        "worksheet = workbook.worksheet(\"本DB\")\n",
        "\n",
        "datalst = [] #本システムで使用するデータを入れるリスト\n",
        "\n",
        "MC = [] #リスト作成用の仮リスト\n",
        "datalstp = [] #これもリスト作成用の仮リスト\n",
        "\n",
        "#メロディーとコードを数字に変換するための表(プログラム内で扱いやすいように)\n",
        "ChangeM = ['c', 'd', 'e', 'f', 'g', 'a', 'b']\n",
        "ChangeC = ['C', 'Dm', 'Em', 'F', 'G', 'Am']\n",
        "\n",
        "#メロディーとコードをリストにまとめる\n",
        "cell_list = worksheet.range(\"A1:B190\")\n",
        "for cell in cell_list:\n",
        "  MC.append(cell.value)\n",
        "print(MC) #[メロディー,コード,メロディー,コード,...]\n",
        "\n",
        "#MC内の文字を数字に変換する\n",
        "for i in range(len(MC)):\n",
        "  if i % 2 == 0:\n",
        "    henkan = ChangeM.index(MC[i])\n",
        "    datalstp.append(henkan)\n",
        "  elif i % 2 == 1:\n",
        "    henkan = ChangeC.index(MC[i])\n",
        "    datalstp.append(henkan)\n",
        "print(datalstp)\n",
        "\n",
        "#(メロディー,コード)の組のタプルを作り、datalstに追加する\n",
        "for j in range((len(datalstp) // 2)):\n",
        "  TEIO = (datalstp[2 * j], datalstp[2 * j  + 1])\n",
        "  datalst.append(TEIO)\n",
        "\n",
        "print('datalst↓')\n",
        "print(datalst)"
      ]
    },
    {
      "cell_type": "code",
      "execution_count": 5,
      "metadata": {
        "colab": {
          "base_uri": "https://localhost:8080/"
        },
        "id": "9evs5A7_fe3l",
        "outputId": "af3411bc-536d-4ac1-df77-dabd2985afee"
      },
      "outputs": [
        {
          "output_type": "stream",
          "name": "stdout",
          "text": [
            "[[0, 2, 2, 2, 2, 4, 4, 4, 4, 1, 0, 0, 0, 2, 2, 4, 4, 2, 2, 0, 6, 5, 4, 0, 0, 4, 4, 1, 1, 0, 0, 0, 0, 2, 2, 0, 2, 2, 4, 0, 2, 4, 0, 4, 0, 2, 4, 2, 0, 0, 1, 2, 1, 4, 1, 2, 4, 2], [3, 5, 5, 5, 5, 2], [6, 3, 4, 4, 5, 6, 6, 1, 2, 1, 4, 1, 0, 4, 4, 0, 0, 6, 5, 4, 0, 0, 4, 0, 2], [5, 5, 5, 2, 2, 5, 6, 1, 1, 5, 5, 4, 0, 0, 0, 0, 0, 0, 2, 0, 2, 5, 5, 5, 0, 0, 6, 3, 5, 3, 1, 3, 3, 1, 5, 5, 3, 5], [1, 3, 3, 3, 6, 6, 6, 2, 4, 1, 4, 2, 4, 1, 4, 0, 4, 2, 1, 4, 3, 1, 1, 1, 4, 4, 2, 1, 2, 1, 1, 6, 6, 4, 5, 1, 1, 1, 4], [0, 0, 5, 2, 0, 1, 0, 5, 4, 4, 4, 2, 2, 2, 0, 0, 0, 5, 3, 5, 1, 2, 1, 2]]\n",
            "lstB↓\n",
            "[[0.29310344827586204, 0.10344827586206896, 0.3103448275862069, 0.0, 0.25862068965517243, 0.017241379310344827, 0.017241379310344827], [0.0, 0.0, 0.16666666666666666, 0.16666666666666666, 0.0, 0.6666666666666666, 0.0], [0.24, 0.12, 0.08, 0.04, 0.28, 0.08, 0.16], [0.23684210526315788, 0.10526315789473684, 0.10526315789473684, 0.13157894736842105, 0.02631578947368421, 0.34210526315789475, 0.05263157894736842], [0.02564102564102564, 0.3333333333333333, 0.1282051282051282, 0.10256410256410256, 0.2564102564102564, 0.02564102564102564, 0.1282051282051282], [0.2916666666666667, 0.125, 0.25, 0.041666666666666664, 0.125, 0.16666666666666666, 0.0]]\n"
          ]
        }
      ],
      "source": [
        "#コードメロディー間合致確率の計算\n",
        "\n",
        "lstBc = []\n",
        "lstBdm = []\n",
        "lstBem = []\n",
        "lstBf = []\n",
        "lstBg = []\n",
        "lstBam = []\n",
        "lstB = [lstBc, lstBdm, lstBem, lstBf, lstBg, lstBam]\n",
        "\n",
        "KRc = []     #確率を計算するため、データを振り分けて保存するリスト\n",
        "KRdm = []    #（すべての確率計算で使われるリスト。その都度計算前にリセットします)\n",
        "KRem = []\n",
        "KRf = []\n",
        "KRg = []\n",
        "KRam = []\n",
        "KRlst = [KRc, KRdm, KRem, KRf, KRg, KRam]\n",
        "\n",
        "for i in range(len(datalst)):\n",
        "  melo = datalst[i][0]\n",
        "  chord = datalst[i][1]\n",
        "  KRlst[chord].append(melo)\n",
        "print(KRlst)\n",
        "\n",
        "for j in range(6):       #確率を求めてリストにする(例：lstB[0][2]　-> コード:Cがメロディ:ミに合う確率)\n",
        "  for k in range(7):\n",
        "    if len(KRlst[j]) == 0:\n",
        "      lstB[j] = [0,0,0,0,0,0]  #母数がそもそも０の場合は、もう確率は全部０\n",
        "    else:\n",
        "      lstBapp = KRlst[j].count(k) / len(KRlst[j])\n",
        "      lstB[j].append(lstBapp)\n",
        "\n",
        "print('lstB↓')\n",
        "print(lstB)\n",
        "\n"
      ]
    },
    {
      "cell_type": "code",
      "execution_count": 6,
      "metadata": {
        "colab": {
          "base_uri": "https://localhost:8080/"
        },
        "id": "tIAH2f1uBlbG",
        "outputId": "a183ca63-29fe-46b9-99ba-49068b0af973"
      },
      "outputs": [
        {
          "output_type": "stream",
          "name": "stdout",
          "text": [
            "[[4, 1, 3, 3, 2, 3, 2, 3, 3, 4, 3, 4, 3, 3, 4, 4, 3, 4, 4, 2, 2, 4, 3, 4], [0, 4], [5, 5, 5, 3, 5, 5, 5, 0, 3, 3, 5, 3, 0], [1, 4, 4, 2, 4, 4, 2, 2, 4, 4, 0, 0, 4, 0, 4, 5, 4, 4, 0, 0, 4], [0, 2, 0, 0, 0, 0, 3, 2, 0, 0, 5, 0, 0, 5, 5, 0, 0, 3, 0, 0, 5, 5], [3, 4, 3, 0, 0, 3, 4, 2, 2, 2, 2, 3, 3]]\n",
            "lst12変更前↓\n",
            "[[0.0, 0.041666666666666664, 0.16666666666666666, 0.4166666666666667, 0.375, 0.0], [0.5, 0.0, 0.0, 0.0, 0.5, 0.0], [0.15384615384615385, 0.0, 0.0, 0.3076923076923077, 0.0, 0.5384615384615384], [0.23809523809523808, 0.047619047619047616, 0.14285714285714285, 0.0, 0.5238095238095238, 0.047619047619047616], [0.5909090909090909, 0.0, 0.09090909090909091, 0.09090909090909091, 0.0, 0.22727272727272727], [0.15384615384615385, 0.0, 0.3076923076923077, 0.38461538461538464, 0.15384615384615385, 0.0]]\n"
          ]
        }
      ],
      "source": [
        "#コード間遷移確率の計算\n",
        "\n",
        "lst12c = []\n",
        "lst12dm = []\n",
        "lst12em = []\n",
        "lst12f = []\n",
        "lst12g = []\n",
        "lst12am = []\n",
        "lst12 = [lst12c, lst12dm, lst12em, lst12f, lst12g, lst12am]\n",
        "\n",
        "KRc = []\n",
        "KRdm = []\n",
        "KRem = []\n",
        "KRf = []\n",
        "KRg = []\n",
        "KRam = []\n",
        "KRlst = [KRc, KRdm, KRem, KRf, KRg, KRam] #lstBが終わったので初期化\n",
        "\n",
        "for i in range(len(datalst) - 1):\n",
        "  chord = datalst[i][1]\n",
        "  nextchord = datalst[i + 1][1]\n",
        "  if chord == nextchord:    #コードとその次のコードが同じだった場合、「移り変わり」ではないので、確率を求めるためのリストを入れない\n",
        "    pass\n",
        "  else:\n",
        "    KRlst[chord].append(nextchord)\n",
        "\n",
        "print(KRlst)\n",
        "\n",
        "for j in range(6):       #確率を求めてリストにする　　(例:lst12[0][3] -> CからFへの遷移確率)\n",
        "  for k in range(6):\n",
        "    if len(KRlst[j]) == 0:\n",
        "      lst12[j] = [0,0,0,0,0,0]  #母数がそもそも０の場合は、もう確率は全部０\n",
        "    else:\n",
        "      lst12app = KRlst[j].count(k) / len(KRlst[j])\n",
        "      lst12[j].append(lst12app)\n",
        "\n",
        "print('lst12変更前↓')\n",
        "print(lst12)"
      ]
    },
    {
      "cell_type": "code",
      "source": [
        "#冒頭コード、末尾コードは手計算で確率を出しました。\n",
        "\n",
        "lst01 = [0.4, 0, 0, 0.3, 0.0, 0.3] #始まりのコードになる確率[C,Dm,Em,F,G,Am]\n",
        "lst45 = [0.4, 0, 0, 0.1, 0.2, 0.2] #終わりのコードになる確率[C,Dm,Em,F,G,Am]"
      ],
      "metadata": {
        "id": "-DaKQMB1GZKu"
      },
      "execution_count": 9,
      "outputs": []
    },
    {
      "cell_type": "code",
      "source": [
        "print('lst12変更前↓')\n",
        "print(lst12)\n",
        "\n",
        "k = 0.15 #ドミナントなどの移り変わりに基づき、確率を底上げするための変数 (主に足りないなと思った部分に追加する)\n",
        "lst12[0][5] += (k / 2) #C-Am\n",
        "lst12[3][2] += k #F-Em\n",
        "lst12[4][2] += k #G-Em\n",
        "lst12[4][5] += k #G-Am\n",
        "lst12[5][1] += (k / 2) #Am-Dm\n",
        "\n",
        "print('lst12変更後↓')\n",
        "print(lst12)"
      ],
      "metadata": {
        "id": "f7v7WvDooNS3"
      },
      "execution_count": null,
      "outputs": []
    },
    {
      "cell_type": "code",
      "execution_count": null,
      "metadata": {
        "colab": {
          "base_uri": "https://localhost:8080/"
        },
        "outputId": "41bb2740-4169-419e-f943-b5b55f3865db",
        "id": "9njJGTs-u0yF"
      },
      "outputs": [
        {
          "output_type": "stream",
          "name": "stdout",
          "text": [
            "cgggcgddcgggcbcc\n",
            "['F', 'C', 'G', 'C', 'F', 'C', 'G', 'Am', 'F', 'C', 'G', 'Em', 'Am', 'Em', 'F', 'C']\n"
          ]
        }
      ],
      "source": [
        "#log使用　入力：c,d,e,f,g,a,b\n",
        "user_input = input()\n",
        "melo = []\n",
        "\n",
        "ChangeM = ['c', 'd', 'e', 'f', 'g', 'a', 'b']\n",
        "#入力されたメロディを数字に変換する。\n",
        "for i in range(len(user_input)):\n",
        "  henkanm = ChangeM.index(user_input[i])\n",
        "  melo.append(henkanm)\n",
        "#user_input = cde -> melo = [0,1,2]\n",
        "\n",
        "output = []\n",
        "Keisan = []\n",
        "for i in range(len(melo)):\n",
        "  Keisan.append(melo[(len(melo) - 1) - i])\n",
        "#計算する順番に合わせるため、リストの順序を逆さまにする\n",
        "\n",
        "chord = []\n",
        "table = {}\n",
        "afterchord = -1 #afterchordやtableでは、0=C 1=Dm 2=Em 3=F 4=G 5=Am\n",
        "nowmelo = -1 #nowmeloでは、0＝ド,1＝レ,2＝ミ,3＝ファ,4＝ソ,5＝ラ,6＝シ\n",
        "RuiKak = 1\n",
        "logRuiKak = 0\n",
        "\n",
        "def zelog(x):\n",
        "  if x == 0:\n",
        "    return -1000\n",
        "  else:\n",
        "    return math.log10(x)\n",
        "\n",
        "#浮動小数点数を乗算する代わりにmath.log10()を使ってみようと思ったが、確率が０の場合、log10(0)を定義できない\n",
        "#なので一旦、log10(0)を-1000として返すzelog(x)を定義。入力が長くない限り、０でない計算値が10の-1000乗を下回ることはない\n",
        "#これは、確率が1番高いもののみを選ぶ時有効だと思われる。確率が本来０のものの中で、数値の大小が生まれているため。\n",
        "\n",
        "for i in range(len(Keisan)):\n",
        "  nowmelo = Keisan[i] #いまコードを決めているメロディー\n",
        "  if i == 0:     #一番最後のコード\n",
        "    for j in range(6):\n",
        "      table[j] = zelog(lst45[j]) + zelog(lstB[j][nowmelo])\n",
        "  elif i == len(Keisan) - 1:   #一番最初のコード\n",
        "    for j in range(6):\n",
        "      table[j] = zelog(lst01[j]) + zelog(lstB[j][nowmelo]) + zelog(lst12[j][afterchord]) + logRuiKak\n",
        "  else:   #途中のコード\n",
        "    for j in range(6):\n",
        "      table[j] = zelog(lst12[j][afterchord]) + zelog(lstB[j][nowmelo]) + logRuiKak\n",
        "  sortable = sorted(table.items(), key=lambda x:x[1], reverse=True) #sortable\n",
        "  afterchord = sortable[0][0]\n",
        "  logRuiKak = logRuiKak + sortable[0][1]\n",
        "  henkanc = ChangeC[sortable[0][0]]#ChangeC = ['C', 'Dm', 'Em', 'F', 'G', 'Am']\n",
        "  output.insert(0 , henkanc) #数字をコード名に変え、リストの0番目に挿入\n",
        "\n",
        "print(output)\n"
      ]
    },
    {
      "cell_type": "code",
      "execution_count": 10,
      "metadata": {
        "colab": {
          "base_uri": "https://localhost:8080/"
        },
        "outputId": "e4be8b9b-6eae-472e-8ebc-40078b3d3b0e",
        "id": "ehG_GmjL2uew"
      },
      "outputs": [
        {
          "output_type": "stream",
          "name": "stdout",
          "text": [
            "ドソソソドソレレドソソソドシドド\n",
            "['F', 'C', 'G', 'C', 'F', 'C', 'G', 'Am', 'F', 'C', 'G', 'Em', 'Am', 'Em', 'F', 'C']\n"
          ]
        }
      ],
      "source": [
        "#zelog使用　入力：c,d,e,f,g,a,b\n",
        "user_input = input()\n",
        "melo = [] #入力は ドレミファソラシド を用いる\n",
        "\n",
        "ChangeM = ['ド', 'レ', 'ミ', 'フ', 'ソ', 'ラ', 'シ']\n",
        "\n",
        "for i in range(len(user_input)):\n",
        "  if user_input[i] == 'ァ':\n",
        "    pass\n",
        "  else:\n",
        "    henkanm = ChangeM.index(user_input[i])\n",
        "    melo.append(henkanm)\n",
        "\n",
        "#print(melo) #user_input = ドレミ -> melo = [0,1,2]\n",
        "\n",
        "#melo = [0,1,2,3,5,1,0] #入力\n",
        "output = []\n",
        "Keisan = []\n",
        "for i in range(len(melo)):\n",
        "  Keisan.append(melo[(len(melo) - 1) - i])\n",
        "#計算する順番に合わせるため、リストの順序を逆さまにする\n",
        "\n",
        "chord = []\n",
        "table = {}\n",
        "afterchord = -1 #afterchordやtableでは、0=C 1=Dm 2=Em 3=F 4=G 5=Am\n",
        "nowmelo = -1 #nowmeloでは、0＝ド,1＝レ,2＝ミ,3＝ファ,4＝ソ,5＝ラ,6＝シ\n",
        "RuiKak = 1\n",
        "logRuiKak = 0\n",
        "\n",
        "def zelog(x):\n",
        "  if x == 0:\n",
        "    return -1000\n",
        "  else:\n",
        "    return math.log10(x)\n",
        "\n",
        "for i in range(len(Keisan)):\n",
        "  nowmelo = Keisan[i] #いまコードを決めているメロディー\n",
        "  if i == 0:     #一番最後のコード\n",
        "    for j in range(6):\n",
        "      table[j] = zelog(lst45[j]) + zelog(lstB[j][nowmelo])\n",
        "  elif i == len(Keisan) - 1:   #一番最初のコード\n",
        "    for j in range(6):\n",
        "      table[j] = zelog(lst01[j]) + zelog(lstB[j][nowmelo]) + zelog(lst12[j][afterchord]) + logRuiKak\n",
        "  else:   #途中のコード\n",
        "    for j in range(6):\n",
        "      table[j] = zelog(lst12[j][afterchord]) + zelog(lstB[j][nowmelo]) + logRuiKak\n",
        "  sortable = sorted(table.items(), key=lambda x:x[1], reverse=True)\n",
        "  afterchord = sortable[0][0]\n",
        "  logRuiKak = logRuiKak + sortable[0][1]\n",
        "  henkanc = ChangeC[sortable[0][0]]#ChangeC = ['C', 'Dm', 'Em', 'F', 'G', 'Am']\n",
        "  output.insert(0 , henkanc) #数字をコード名に変え、リストの0番目に挿入\n",
        "\n",
        "print(output)\n"
      ]
    },
    {
      "cell_type": "markdown",
      "metadata": {
        "id": "gtLS71DWjuYW"
      },
      "source": [
        "##ここから下はシステム制作の際に使ったノート、メモです。"
      ]
    },
    {
      "cell_type": "markdown",
      "metadata": {
        "id": "NY65NABpyFiW"
      },
      "source": [
        "# 何やっているか\n",
        "「melo」リストにメロディーを入力します。\n",
        "\n",
        "処理の順番は最後から最初なので meloを逆さまにし、「Keisan」リストに入れます。\n",
        "\n",
        "# コードの処理\n",
        "「for i in range(len(Keisan)):」から、メロディーの処理を始めます。\n",
        "\n",
        "\n",
        "辞書の「table」に、key=[コード名],item=[メロディーとそのコードが合う確率]として\n",
        "C,Dm,Em,F,G,Amの情報が追加されます。\n",
        "その辞書を値でソートすると、0番目に一番確率の高いものが来るので、\n",
        "afterchode（計算されたコードを保存する）にコード名が代入され、\n",
        "RuiKak（累積確率）と確率を乗算します。\n",
        "\n",
        "一番最後のコード：一番最後になる確率　* メロディーと合う確率\n",
        "\n",
        "一番最初のコード：一番最初になる確率　* メロディーと合う確率 * afterchodeに移る確率 * 累積確率\n",
        "\n",
        "途中のコード：　afterchodeに移る確率　*メロディーと合う確率 * 累積確率\n",
        "\n",
        "\n"
      ]
    },
    {
      "cell_type": "code",
      "source": [
        "#コード遷移確率を、テンプレコード進行で計算してみる\n",
        "\n",
        "KRc = []\n",
        "KRdm = []\n",
        "KRem = []\n",
        "KRf = []\n",
        "KRg = []\n",
        "KRam = []\n",
        "KRlst = [KRc, KRdm, KRem, KRf, KRg, KRam]  #初期化\n",
        "\n",
        "chordlst = [] #持ってきたデータを数字に変換して保存するリスト\n",
        "ChangeC = ['C', 'Dm', 'Em', 'F', 'G', 'Am']\n",
        "lst12c = [0,0,0,0,0,0]\n",
        "lst12dm = [0,0,0,0,0,0]\n",
        "lst12em = [0,0,0,0,0,0]\n",
        "lst12f = [0,0,0,0,0,0]\n",
        "lst12g = [0,0,0,0,0,0]\n",
        "lst12am = [0,0,0,0,0,0]  #初期状態として確率すべて０にしておく。\n",
        "lst12 = [lst12c, lst12dm, lst12em, lst12f, lst12g, lst12am]\n",
        "\n",
        "worksheet = workbook.worksheet(\"テンプレコード集\")\n",
        "data_temp = []\n",
        "\n",
        "\n",
        "for n in range(7): #カノン 1451進行以外\n",
        "  chordlst = []\n",
        "  min = 5*n + 1\n",
        "  max = 5*n + 5\n",
        "  cell_list = worksheet.range(\"A\"+str(min)+\":A\"+str(max)) #データを5セル分もってくる\n",
        "  for cell in cell_list:\n",
        "    henkanx = cell.value\n",
        "    Mcqueen = ChangeC.index(cell.value)\n",
        "    chordlst.append(Mcqueen) #例F G Em Am Fを[3, 4, 2, 5, 3]に変換\n",
        "  for i in range(len(chordlst) - 1):\n",
        "    chord = chordlst[i]\n",
        "    nextchord = chordlst[i + 1]\n",
        "    KRlst[chord].append(nextchord) #「コードとその次のコードが同じ」がないようなデータにしています　#例[[], [], [5], [4], [2], [3]]\n",
        "  for j in range(6):       #確率を求めてリストにする　　(例:lst12[0][3] -> CからFへの遷移確率)\n",
        "    for k in range(6):\n",
        "      if len(KRlst[j]) == 0:\n",
        "        lst12[j] = [0,0,0,0,0,0]  #母数がそもそも０の場合は、もう確率は全部０\n",
        "      else:\n",
        "        lst12app = KRlst[j].count(k) / len(KRlst[j])\n",
        "        lst12[j][k] = (lst12app / (n+1)) + (lst12[j][k] * n / (n+1) )    #処理時点で登録されている確率にまぜる\n",
        "print(lst12)"
      ],
      "metadata": {
        "id": "mWBKqBHfYWUa"
      },
      "execution_count": null,
      "outputs": []
    },
    {
      "cell_type": "code",
      "source": [
        "#カノン進行と1451\n",
        "\n",
        "chordlst = []\n",
        "cell_list = worksheet.range(\"C1:C9\") #カノン進行\n",
        "for cell in cell_list:\n",
        "  henkanx = cell.value\n",
        "  Mcqueen = ChangeC.index(cell.value)\n",
        "  chordlst.append(Mcqueen) #例F G Em Am Fを[3, 4, 2, 5, 3]に変換\n",
        "for i in range(len(chordlst) - 1):\n",
        "  chord = chordlst[i]\n",
        "  nextchord = chordlst[i + 1]\n",
        "  KRlst[chord].append(nextchord) #「コードとその次のコードが同じ」がないようなデータにしています　#例[[], [], [5], [4], [2], [3]]\n",
        "for j in range(6):       #確率を求めてリストにする　　(例:lst12[0][3] -> CからFへの遷移確率)\n",
        "  for k in range(6):\n",
        "    if len(KRlst[j]) == 0:\n",
        "      lst12[j] = [0,0,0,0,0,0]  #母数がそもそも０の場合は、もう確率は全部０\n",
        "    else:\n",
        "      lst12app = KRlst[j].count(k) / len(KRlst[j])\n",
        "      lst12[j][k] = lst12[j][k] = (lst12app / (9)) + (lst12[j][k] * 8 / 9 )    #処理時点で登録されている確率との平均をとる 9個目\n",
        "\n",
        "print(lst12)\n",
        "\n",
        "chordlst = []\n",
        "cell_list = worksheet.range(\"C10:C13\") #1451進行\n",
        "for cell in cell_list:\n",
        "  henkanx = cell.value\n",
        "  Mcqueen = ChangeC.index(cell.value)\n",
        "  chordlst.append(Mcqueen) #例F G Em Am Fを[3, 4, 2, 5, 3]に変換\n",
        "for i in range(len(chordlst) - 1):\n",
        "  chord = chordlst[i]\n",
        "  nextchord = chordlst[i + 1]\n",
        "  KRlst[chord].append(nextchord) #「コードとその次のコードが同じ」がないようなデータにしています　#例[[], [], [5], [4], [2], [3]]\n",
        "for j in range(6):       #確率を求めてリストにする　　(例:lst12[0][3] -> CからFへの遷移確率)\n",
        "  for k in range(6):\n",
        "    if len(KRlst[j]) == 0:\n",
        "      lst12[j] = [0,0,0,0,0,0]  #母数がそもそも０の場合は、もう確率は全部０\n",
        "    else:\n",
        "      lst12app = KRlst[j].count(k) / len(KRlst[j])\n",
        "      lst12[j][k] = (lst12app + lst12[j][k]) / 2    #処理時点で登録されている確率との平均をとる\n",
        "\n",
        "\n",
        "print(lst12)"
      ],
      "metadata": {
        "id": "sEHCs7GCYdy9"
      },
      "execution_count": null,
      "outputs": []
    },
    {
      "cell_type": "code",
      "source": [
        "#コード遷移確率を、テンプレコード進行で計算してみるのメモ\n",
        "data_temp = []\n",
        "chordlst = []\n",
        "\n",
        "cell_list = worksheet.range(A1:A5\")\n",
        "for cell in cell_list:\n",
        "  data_temp.append(cell.value)\n",
        "print(data_temp) #テンプレコード4+1個分をまとめる\n",
        "\n",
        "for i in range(len(data_temp)):\n",
        "  Mcqueen = ChangeC.index(data_temp[i])\n",
        "  chordlst.append(Mcqueen)\n",
        "\n",
        "print(chordlst)\n",
        "print('↑と↓はどちらも「データを持ってきてデータを数字に変換」している')\n",
        "\n",
        "data_temp = []\n",
        "chordlst = []\n",
        "\n",
        "cell_list = worksheet.range(\"A1:A5\")\n",
        "for cell in cell_list:\n",
        "  henkanx = cell.value\n",
        "  Mcqueen = ChangeC.index(cell.value)\n",
        "  chordlst.append(Mcqueen)\n",
        "\n",
        "print(chordlst)"
      ],
      "metadata": {
        "id": "Ixs0FjjE5jxU"
      },
      "execution_count": null,
      "outputs": []
    },
    {
      "cell_type": "code",
      "execution_count": null,
      "metadata": {
        "colab": {
          "base_uri": "https://localhost:8080/"
        },
        "id": "64hDwKCrM7is",
        "outputId": "a1f97bce-5014-46a1-a43c-6c196b67f897"
      },
      "outputs": [
        {
          "output_type": "stream",
          "name": "stdout",
          "text": [
            "cdef\n",
            "[0, 1, 2, 3]\n",
            "['C', 'G', 'C', 'G']\n"
          ]
        }
      ],
      "source": [
        "#zelog未使用\n",
        "user_input = input()\n",
        "melo = [] #入力は c,d,e,f,g,a,b を用いる\n",
        "\n",
        "ChangeM = ['c', 'd', 'e', 'f', 'g', 'a', 'b']\n",
        "#入力されたメロディを数字に変換する。\n",
        "for i in range(len(user_input)):\n",
        "  henkanm = ChangeM.index(user_input[i])\n",
        "  melo.append(henkanm)\n",
        "\n",
        "print(melo) #user_input = cde -> melo = [0,1,2]\n",
        "\n",
        "#melo = [0,1,2,3,5,1,0] #入力\n",
        "output = []\n",
        "\n",
        "Keisan = []\n",
        "for i in range(len(melo)):\n",
        "  Keisan.append(melo[(len(melo) - 1) - i])\n",
        "#計算する順番に合わせるため、リストの順序を逆さまにする\n",
        "\n",
        "chode = []\n",
        "table = {}\n",
        "afterchode = -1 #afterchodeやtableでは、0=C 1=Dm 2=Em 3=F 4=G 5=Am\n",
        "nowmelo = -1 #nowmeloでは、0＝ド,1＝レ,2＝ミ,3＝ファ,4＝ソ,5＝ラ,6＝シ\n",
        "RuiKak = 1\n",
        "#logRuiKak = 0\n",
        "\n",
        "for i in range(len(Keisan)): #入力(実際は逆さまになったリスト)のメロディの個数分繰り返す\n",
        "  nowmelo = Keisan[i] #いまコードを決めているメロディーをnowmeloに代入\n",
        "  if i == 0:     #一番最後のコードを決める\n",
        "    for j in range(6):\n",
        "      table[j] = lst45[j] * lstB[j][nowmelo]\n",
        "  elif i == len(Keisan) - 1:   #一番最初のコード\n",
        "    for j in range(6):\n",
        "      table[j] = lst01[j] * lstB[j][nowmelo] * lst12[j][afterchode] * RuiKak\n",
        "  else:   #途中のコード\n",
        "    for j in range(6):\n",
        "      table[j] = lst12[j][afterchode] * lstB[j][nowmelo] * RuiKak\n",
        "  sortable = sorted(table.items(), key=lambda x:x[1], reverse=True) #確率高い順に\n",
        "  afterchode = sortable[0][0] #sortable[0][0]が一番確率が高い。\n",
        "  RuiKak = RuiKak * sortable[0][1]\n",
        "  #print(sortable[0][0])\n",
        "  henkanc = ChangeC[sortable[0][0]]#ChangeC = ['C', 'Dm', 'Em', 'F', 'G', 'Am']\n",
        "  output.insert(0 , henkanc) #数字をコード名に変え、リストの0番目に挿入。順番もいれかえます\n",
        "\n",
        "print(output)\n",
        "\n",
        "\n",
        "#print(sortable[0][0])\n",
        "\n",
        "#出力結果はメロディの順番とさかさまになっている。\n"
      ]
    },
    {
      "cell_type": "code",
      "execution_count": null,
      "metadata": {
        "colab": {
          "base_uri": "https://localhost:8080/"
        },
        "outputId": "9afe07c1-6b9f-4b5b-bcb3-6bb1e4161149",
        "id": "CuQO0cvNHEJq"
      },
      "outputs": [
        {
          "output_type": "stream",
          "name": "stdout",
          "text": [
            "ドレミ\n",
            "['C', 'G', 'C']\n"
          ]
        }
      ],
      "source": [
        "#zelog未使用\n",
        "user_input = input()\n",
        "melo = [] #入力は ドレミファソラシド を用いる\n",
        "\n",
        "ChangeM = ['ド', 'レ', 'ミ', 'フ', 'ソ', 'ラ', 'シ']\n",
        "\n",
        "for i in range(len(user_input)):\n",
        "  if user_input[i] == 'ァ':\n",
        "    pass\n",
        "  else:\n",
        "    henkanm = ChangeM.index(user_input[i])\n",
        "    melo.append(henkanm)\n",
        "\n",
        "#print(melo) #user_input = ドレミ -> melo = [0,1,2]\n",
        "\n",
        "#melo = [0,1,2,3,5,1,0] #入力\n",
        "output = []\n",
        "\n",
        "Keisan = []\n",
        "for i in range(len(melo)):\n",
        "  Keisan.append(melo[(len(melo) - 1) - i])\n",
        "#計算する順番に合わせるため、リストの順序を逆さまにする\n",
        "\n",
        "chode = []\n",
        "table = {}\n",
        "afterchode = -1 #afterchodeやtableでは、0=C 1=Dm 2=Em 3=F 4=G 5=Am\n",
        "nowmelo = -1 #nowmeloでは、0＝ド,1＝レ,2＝ミ,3＝ファ,4＝ソ,5＝ラ,6＝シ\n",
        "RuiKak = 1\n",
        "#logRuiKak = 0\n",
        "\n",
        "for i in range(len(Keisan)): #入力(実際は逆さまになったリスト)のメロディの個数分繰り返す\n",
        "  nowmelo = Keisan[i] #いまコードを決めているメロディーをnowmeloに代入\n",
        "  if i == 0:     #一番最後のコードを決める\n",
        "    for j in range(6):\n",
        "      table[j] = lst45[j] * lstB[j][nowmelo]\n",
        "  elif i == len(Keisan) - 1:   #一番最初のコード\n",
        "    for j in range(6):\n",
        "      table[j] = lst01[j] * lstB[j][nowmelo] * lst12[j][afterchode] * RuiKak\n",
        "  else:   #途中のコード\n",
        "    for j in range(6):\n",
        "      table[j] = lst12[j][afterchode] * lstB[j][nowmelo] * RuiKak\n",
        "  sortable = sorted(table.items(), key=lambda x:x[1], reverse=True) #確率高い順に\n",
        "  afterchode = sortable[0][0] #sortable[0][0]が一番確率が高い。\n",
        "  RuiKak = RuiKak * sortable[0][1]\n",
        "  #print(sortable[0][0])\n",
        "  henkanc = ChangeC[sortable[0][0]]#ChangeC = ['C', 'Dm', 'Em', 'F', 'G', 'Am']\n",
        "  output.insert(0 , henkanc) #数字をコード名に変え、リストの0番目に挿入。順番もいれかえます\n",
        "\n",
        "print(output)\n",
        "\n",
        "\n",
        "#print(sortable[0][0])\n",
        "\n",
        "#出力結果はメロディの順番とさかさまになっている。\n"
      ]
    },
    {
      "cell_type": "code",
      "source": [
        "#c,d,e,f,g,a,b,c -> 0,1,2,3,4,5,6,0\n",
        "\n",
        "del user_input\n",
        "user_input = input()\n",
        "melo = [] #入力は c,d,e,f,g,a,b を用いる\n",
        "\n",
        "ChangeM = ['c', 'd', 'e', 'f', 'g', 'a', 'b']\n",
        "\n",
        "for i in range(len(user_input)):\n",
        "  henkanm = ChangeM.index(user_input[i])\n",
        "  melo.append(henkanm)\n",
        "\n",
        "print(melo)"
      ],
      "metadata": {
        "colab": {
          "base_uri": "https://localhost:8080/"
        },
        "id": "60saAoyolCVi",
        "outputId": "48205e25-b48b-4460-e639-4420d09eec00"
      },
      "execution_count": 11,
      "outputs": [
        {
          "output_type": "stream",
          "name": "stdout",
          "text": [
            "cdefg\n",
            "[0, 1, 2, 3, 4]\n"
          ]
        }
      ]
    },
    {
      "cell_type": "code",
      "source": [
        "#ドレミファソラシド→01234560\n",
        "\n",
        "del user_input\n",
        "user_input = input()\n",
        "melo = [] #入力は ドレミファソラシド を用いる\n",
        "\n",
        "ChangeM = ['ド', 'レ', 'ミ', 'フ', 'ソ', 'ラ', 'シ']\n",
        "\n",
        "for i in range(len(user_input)):\n",
        "  if user_input[i] == 'ァ':\n",
        "    pass\n",
        "  else:\n",
        "    henkanm = ChangeM.index(user_input[i])\n",
        "    melo.append(henkanm)\n",
        "\n",
        "print(melo)"
      ],
      "metadata": {
        "colab": {
          "base_uri": "https://localhost:8080/"
        },
        "id": "jlkAq-kony9M",
        "outputId": "bb1cf0f4-a4be-4634-d504-5540de90e9fb"
      },
      "execution_count": 12,
      "outputs": [
        {
          "output_type": "stream",
          "name": "stdout",
          "text": [
            "ドレミファソ\n",
            "[0, 1, 2, 3, 4]\n"
          ]
        }
      ]
    },
    {
      "cell_type": "code",
      "source": [
        "#lst01 始まりのコードになる確率\n",
        "MC = []\n",
        "lst01 = []\n",
        "lst01data = []\n",
        "\n",
        "worksheet = workbook.worksheet(\"最終版\")\n",
        "cell_list = worksheet.range(\"H1:H10\")\n",
        "for cell in cell_list:\n",
        "  MC.append(cell.value)\n",
        "print(MC)\n",
        "\n",
        "\n",
        "for i in range(len(MC)):\n",
        "  Mcqueen = ChangeC.index(MC[i])\n",
        "  lst01data.append(Mcqueen)\n",
        "\n",
        "print(lst01data)\n",
        "\n",
        "#for j in range(len(lst01data)):       #確率を求めてリストにする\n",
        "#  lst01app = lst01data.count(j) / len(lst01data)\n",
        "#  lst01.append(lst01app)\n",
        "\n",
        "for j in range(6):\n",
        "  lst01app = lst01data.count(j) / len(lst01data)\n",
        "  lst01.append(lst01app)\n",
        "\n",
        "print(\"lst01↓\")\n",
        "print(lst01)\n",
        "\n",
        "lst45 = [0.4, 0, 0, 0, 0.3, 0.3] #仮のデータ（というか、手計算でやった)\n",
        "print(lst45)"
      ],
      "metadata": {
        "id": "9piBQXFIYNnW"
      },
      "execution_count": null,
      "outputs": []
    },
    {
      "cell_type": "markdown",
      "source": [
        "#$ P_{ij} = \\frac{C_{ij}}{C_{i}} $\n",
        "\n",
        "###$ P_{ij} $:コードiからコードjへの遷移確率\n",
        "\n",
        "###$ C_{ij} $:データベース内でコードiからjに遷移している個数\n",
        "\n",
        "###$ C_{i} $:データベース内のコードiの個数\n",
        "\n",
        "例:コードCからの遷移先が[Em, Em, F, G]のとき\n",
        "\n",
        "CからEmへの遷移確率$ P_{CEm} $ = $ \\frac{2}{4} $"
      ],
      "metadata": {
        "id": "8CeBw5JT03QY"
      }
    },
    {
      "cell_type": "markdown",
      "source": [
        "#$ P_{ik} = \\frac{C_{ik}}{C_{i}} $\n",
        "\n",
        "###$ P_{ik} $:コードiとメロディーkの合致確率\n",
        "\n",
        "###$ C_{ij} $:データベース内でコードiとメロディーkの組の個数\n",
        "\n",
        "###$ C_{i} $:データベース内のコードiの個数\n",
        "\n",
        "例:コードCとの合致メロディーが[ミ,ミ,ファ,ソ]のとき\n",
        "\n",
        "Cからミへの遷移確率$ P_{Ce} $ = $ \\frac{2}{4} $"
      ],
      "metadata": {
        "id": "3OrK1TeI7_ki"
      }
    },
    {
      "cell_type": "markdown",
      "source": [
        "末尾コード:$P_{i} = P_{ik}\\times E_{i}$\n",
        "\n",
        "途中のコード:$P_{i} = P_{ik}\\times P_{ij}\\times P$\n",
        "\n",
        "冒頭コード:$P_{i} = P_{ik}\\times P_{ij}\\times B_{i}\\times P$"
      ],
      "metadata": {
        "id": "hBMxHzNJA-El"
      }
    },
    {
      "cell_type": "markdown",
      "source": [
        "$P_{i}$ : コードiの確率\n",
        "\n",
        "$ P_{ik} $:コードiとメロディーkの合致確率\n",
        "\n",
        "$ P_{ij} $:コードiからコードjへの遷移確率\n",
        "\n",
        "$E_{i}$ : コードiが末尾コードとなる確率\n",
        "\n",
        "$B_{i}$ : コードiが冒頭コードとなる確率\n",
        "\n",
        "$P$ : 累積確率"
      ],
      "metadata": {
        "id": "l2DyGTnIsmYX"
      }
    },
    {
      "cell_type": "code",
      "execution_count": null,
      "metadata": {
        "colab": {
          "base_uri": "https://localhost:8080/"
        },
        "id": "jD1KYX3Ws12r",
        "outputId": "c74f3497-023c-4ef5-e971-dcb458f58cab"
      },
      "outputs": [
        {
          "name": "stdout",
          "output_type": "stream",
          "text": [
            "[[0.4, 0, 0, 0.3, 0.1, 0.2], [[0.1, 0, 0.15, 0.3, 0.3, 0.15], [0.1, 0.1, 0, 0.2, 0.4, 0.2], [0, 0, 0.1, 0.3, 0.2, 0.4], [0.35, 0, 0.1, 0.1, 0.35, 0.1], [0.5, 0, 0.2, 0, 0.1, 0.2], [0.1, 0.1, 0.3, 0.4, 0, 0.1]], [0.4, 0, 0, 0, 0.3, 0.3]]\n"
          ]
        }
      ],
      "source": [
        "#計算部分のテスト\n",
        "#リストAの作成\n",
        "\n",
        "#lst12(コード) = [C,Dm,Em,F,G,Amへ移る確率]\n",
        "\n",
        "lst01 = [0.4, 0, 0, 0.3, 0.1, 0.2] #始まりのコードになる確率[C,Dm,Em,F,G,Am]\n",
        "\n",
        "lst12c = [0.1, 0, 0.15, 0.3, 0.3, 0.15]\n",
        "lst12dm = [0.1, 0.1, 0, 0.2, 0.4, 0.2]\n",
        "lst12em = [0, 0, 0.1, 0.3, 0.2, 0.4]\n",
        "lst12f = [0.35, 0, 0.1, 0.1, 0.35, 0.1]\n",
        "lst12g = [0.5, 0, 0.2, 0, 0.1, 0.2]\n",
        "lst12am = [0.1, 0.1, 0.3, 0.4, 0, 0.1]\n",
        "\n",
        "lst12 = [lst12c, lst12dm, lst12em, lst12f, lst12g, lst12am]\n",
        "\n",
        "lst45 = [0.4, 0, 0, 0, 0.3, 0.3] #終わりのコードになる確率[C,Dm,Em,F,G,Am]\n",
        "\n",
        "lstA = [lst01, lst12, lst45]\n",
        "\n",
        "print(lstA)"
      ]
    },
    {
      "cell_type": "code",
      "execution_count": null,
      "metadata": {
        "colab": {
          "base_uri": "https://localhost:8080/"
        },
        "id": "D2ChYJpDxo4r",
        "outputId": "a8c0e06f-e3a5-492e-ebdc-84127e8bba53"
      },
      "outputs": [
        {
          "name": "stdout",
          "output_type": "stream",
          "text": [
            "[[0.25, 0, 0.25, 0.1, 0.25, 0.15, 0], [0.1, 0.3, 0, 0.3, 0, 0.3, 0], [0.1, 0.15, 0.25, 0, 0.25, 0, 0.25], [0.25, 0.1, 0.15, 0.25, 0, 0.25, 0], [0, 0.25, 0.1, 0.15, 0.25, 0, 0.25], [0.25, 0, 0.25, 0.1, 0.15, 0.25, 0]]\n"
          ]
        }
      ],
      "source": [
        "#リストBの作成\n",
        "#lstB(コード名) = [ド,レ,ミ,フ,ァ,ソ,ラ,シに合う確率]\n",
        "\n",
        "lstBc = [0.25, 0, 0.25, 0.1, 0.25, 0.15, 0]\n",
        "lstBdm = [0.1, 0.3, 0, 0.3, 0, 0.3, 0]\n",
        "lstBem = [0.1, 0.15, 0.25, 0, 0.25, 0, 0.25]\n",
        "lstBf = [0.25, 0.1, 0.15, 0.25, 0, 0.25, 0]\n",
        "lstBg = [0, 0.25, 0.1, 0.15, 0.25, 0, 0.25]\n",
        "lstBam = [0.25, 0, 0.25, 0.1, 0.15, 0.25, 0]\n",
        "\n",
        "\n",
        "\n",
        "lstB = [lstBc, lstBdm, lstBem, lstBf, lstBg, lstBam]\n",
        "\n",
        "print(lstB)"
      ]
    },
    {
      "cell_type": "markdown",
      "metadata": {
        "id": "fpB26eGxp30i"
      },
      "source": []
    },
    {
      "cell_type": "code",
      "execution_count": null,
      "metadata": {
        "id": "Cb20BiMLMl5b"
      },
      "outputs": [],
      "source": [
        "#nowmelo = Keisan[i]\n",
        "#[lst12[h][nowmelo] for h in range(6)]\n"
      ]
    },
    {
      "cell_type": "code",
      "execution_count": null,
      "metadata": {
        "colab": {
          "base_uri": "https://localhost:8080/"
        },
        "id": "6TwsqAqDxgwD",
        "outputId": "9cfc791f-3fcd-4b51-bb21-5782fb717007"
      },
      "outputs": [
        {
          "name": "stdout",
          "output_type": "stream",
          "text": [
            "[[0], [1, 2], [3, 4, 5]]\n",
            "--------\n",
            "0\n",
            "2\n",
            "5\n",
            "--------\n",
            "3\n",
            "6\n"
          ]
        }
      ],
      "source": [
        "a = [0]\n",
        "b = [1, 2]\n",
        "c = [3, 4, 5]\n",
        "\n",
        "lst = [a, b, c]\n",
        "\n",
        "circle2 = sum([len(lst[i]) for i in range(len(lst))])\n",
        "\n",
        "print(lst)\n",
        "print('--------')\n",
        "\n",
        "print(lst[0][0])\n",
        "print(lst[1][1])\n",
        "print(lst[2][2])\n",
        "print('--------')\n",
        "\n",
        "print(len(lst))\n",
        "print(circle2)\n"
      ]
    },
    {
      "cell_type": "code",
      "execution_count": null,
      "metadata": {
        "colab": {
          "base_uri": "https://localhost:8080/"
        },
        "id": "p2k1Z-fDVV48",
        "outputId": "a57da5b8-1e5b-4514-f7c4-840c720b332f"
      },
      "outputs": [
        {
          "name": "stdout",
          "output_type": "stream",
          "text": [
            "[[[0], [1, 2], [3, 4, 5]], [[6], [7, 8], [9, 10, 11]]]\n",
            "--------\n",
            "0\n",
            "8\n",
            "11\n",
            "--------\n",
            "2\n",
            "6\n"
          ]
        }
      ],
      "source": [
        "#③\n",
        "\n",
        "lst2 = [[6], [7, 8], [9, 10, 11]]\n",
        "lst3 = [lst, lst2]\n",
        "\n",
        "circle31 = sum([len(lst3[i]) for i in range(len(lst3))])\n",
        "\n",
        "\n",
        "print(lst3)\n",
        "print('--------')\n",
        "print(lst3[0][0][0])\n",
        "print(lst3[1][1][1])\n",
        "print(lst3[1][2][2])\n",
        "print('--------')\n",
        "print(len(lst3))\n",
        "print(circle31)"
      ]
    }
  ],
  "metadata": {
    "colab": {
      "provenance": [],
      "authorship_tag": "ABX9TyP/R4ulaKGVAgDk8rMD2U52",
      "include_colab_link": true
    },
    "kernelspec": {
      "display_name": "Python 3",
      "name": "python3"
    },
    "language_info": {
      "name": "python"
    }
  },
  "nbformat": 4,
  "nbformat_minor": 0
}